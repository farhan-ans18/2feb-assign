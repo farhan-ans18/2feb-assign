{
 "cells": [
  {
   "cell_type": "raw",
   "id": "81f6afe4-cdc4-46f8-b781-41f0b1983d8d",
   "metadata": {},
   "source": [
    "Q1. \n",
    "\n",
    "Ans:- LOOP :- The for loop is used when we know the number of iterations, that is, how many times a statement must                be executed.That is why, when we initialize the for loop, we must define the ending point.\n",
    "\n",
    "    SYNTAX:-\n",
    "    \n",
    "    for(initialization; condition; iteration){\n",
    "   //body of the 'for' loop\n",
    "}\n",
    "\n",
    "\n",
    "EXAMPLE:- Extracting numbers from given list.\n",
    "\n",
    "l = [1,2,3,4,5,6,7,8,9,10]\n",
    "\n",
    "for i in l:\n",
    "    print(i)\n",
    "    \n",
    "   OUTPUT  :- 1\n",
    "              2\n",
    "              3\n",
    "              4\n",
    "              5\n",
    "              6\n",
    "              7\n",
    "              8\n",
    "              9\n",
    "              10\n",
    "    \n",
    "    \n",
    "    WHILE :- A while loop is used when the number of iterations is unknown. It is used when we need to end the loop              on a condition other than the number of repetitions.\n",
    "    \n",
    "    SYNTAX:-\n",
    "    \n",
    "    while ( condition) {\n",
    "   statements;\n",
    "   //body of the loop\n",
    "}\n",
    "\n",
    "\n",
    "\n",
    "   EXAMPLE :- Program to prints all the list elements using the WHILE loop.\n",
    "   \n",
    "   num = int(input(\"Enter number: \"))\n",
    "   i = 1\n",
    "   while i<=num:\n",
    "      print(i)\n",
    "      i= i+1\n",
    "      \n",
    "   OUTPUT : Enter number : 5\n",
    "            1\n",
    "            2\n",
    "            3\n",
    "            4\n",
    "            5\n",
    "            \n",
    "            \n",
    "Q2.\n",
    "\n",
    "Ans:- PROGRAM TO PRINT THE SUM AND PRODUCT OF THE FIRST 10 NATURALS NUMBER.\n",
    "\n",
    "\n",
    "      num = int(input(\"Enter First 10 Naturals Number : \"))\n",
    "      \n",
    "      sum = 0\n",
    "      multiply = 1\n",
    "      \n",
    "      for i in range(1,num+1):\n",
    "          sum = sum + i\n",
    "          multiply = multiply * i\n",
    "          \n",
    "      print(\"Sum of First 10 naturals number is : \", sum) \n",
    "      print(\"product of First 10 naturals number is : \", multiply) \n",
    "      \n",
    "      OUTPUT : Enter First 10 Naturals Number : 10\n",
    "               \n",
    "               Sum of First 10 naturals number is : 55\n",
    "               product of First 10 naturals number is : 3628800\n",
    "               \n",
    "               \n",
    "               \n",
    "               \n",
    "Q3.\n",
    "\n",
    "Ans:- PROGRAM TO COMPUTE THE ELECTRICITY BILL FOR A HOUSEHOLD.\n",
    "\n",
    "      \n",
    "      \n",
    "        units = int(input(\"Enter your monthly spend units : \"))\n",
    "        \n",
    "        # for the first 100 units, charge = rs 4.5 per unit.\n",
    "        if units <= 100:\n",
    "            amount = (units * 4.5)\n",
    "            \n",
    "        # for the next 100 units , charge = rs 6 per unit.\n",
    "        if units > 100:\n",
    "            amount = (100 * 4.5) + (units- 100)*6\n",
    "            \n",
    "        # for the next hundred units , charge = rs 10 per unit.\n",
    "        if units > 200:\n",
    "            amount = (100*4.5)+(100*6)+(units-200)*10\n",
    "            \n",
    "        # after 300 units, charge will be fixed = rs 20 per unit.\n",
    "        if units > 300:\n",
    "            amount = (100*4.5)+(100*6)+(100*10)+(units-300)*20\n",
    "            \n",
    "        print(amount)    \n",
    "        \n",
    "        \n",
    "        \n",
    "        OUTPUT: Enter your monthly spend units: 310\n",
    "                \n",
    "                2250\n",
    "                \n",
    "                or\n",
    "                \n",
    "                Enter your monthly spend units: 210\n",
    "                \n",
    "                \n",
    "                1150\n",
    "                \n",
    "                or\n",
    "                \n",
    "                Enter your monthly spend units: 110\n",
    "                \n",
    "                510\n",
    "                \n",
    "                \n",
    "                \n",
    " Q4.\n",
    " \n",
    "Ans:-   lst = list(range(1,101))\n",
    "\n",
    "        print(lst)\n",
    "        \n",
    "        cubes = []\n",
    "        for i in lst:\n",
    "            if i**3%4 == 0 or i**3%5==0:\n",
    "              cubes.append(i**3)\n",
    "              \n",
    "        print(cubes)\n",
    "        \n",
    "    (sorry sir, not able to do same things with while loop, plz mail me the solution at mdfarhan72096@gmail.com)\n",
    "        \n",
    "        \n",
    "Q5.  \n",
    "\n",
    "Ans:- string = \"I want to become a data scientist\"\n",
    "      vowels = 0\n",
    "      for i in string:\n",
    "          if (i == \"a\" or i==\"e\" or i==\"i\" or i==\"o\"or i==\"u\" or i==\"A\" or i==\"E\" or i==\"I\" or i==\"O\" or i==\"U\"):\n",
    "                vowels = vowels + 1\n",
    "\n",
    "print(\"Total vowels in this string are :\",vowels)\n",
    "        "
   ]
  },
  {
   "cell_type": "code",
   "execution_count": 1,
   "id": "9481b94b-7fac-43ef-a0e3-9eb9291bf726",
   "metadata": {},
   "outputs": [
    {
     "name": "stdout",
     "output_type": "stream",
     "text": [
      "1\n",
      "2\n",
      "3\n",
      "4\n",
      "5\n",
      "6\n",
      "7\n",
      "8\n",
      "9\n",
      "10\n"
     ]
    }
   ],
   "source": [
    "'''\n",
    "Q1. \n",
    "\n",
    "Ans:- LOOP :- The for loop is used when we know the number of iterations, that is, how many times a statement must                be executed.That is why, when we initialize the for loop, we must define the ending point.\n",
    "\n",
    "    SYNTAX:-\n",
    "    \n",
    "    for(initialization; condition; iteration){\n",
    "   //body of the 'for' loop\n",
    "}\n",
    "\n",
    "\n",
    "EXAMPLE:- Extracting numbers from given list.\n",
    "\n",
    "'''\n",
    "\n",
    "l = [1,2,3,4,5,6,7,8,9,10]\n",
    "\n",
    "for i in l:\n",
    "    print(i)"
   ]
  },
  {
   "cell_type": "code",
   "execution_count": 3,
   "id": "fd1b1ada-0a6f-4345-9302-ad88b2e4600c",
   "metadata": {},
   "outputs": [
    {
     "name": "stdin",
     "output_type": "stream",
     "text": [
      "Enter number:  4\n"
     ]
    },
    {
     "name": "stdout",
     "output_type": "stream",
     "text": [
      "1\n",
      "2\n",
      "3\n",
      "4\n"
     ]
    }
   ],
   "source": [
    "'''\n",
    "Q1.\n",
    "WHILE :- A while loop is used when the number of iterations is unknown. It is used when we need to end the loop              on a condition other than the number of repetitions.\n",
    "    \n",
    "    SYNTAX:-\n",
    "    \n",
    "    while ( condition) {\n",
    "   statements;\n",
    "   //body of the loop\n",
    "}\n",
    "'''\n",
    "\n",
    " # EXAMPLE :- Program to prints all the list elements using the WHILE loop.\n",
    "   \n",
    "num = int(input(\"Enter number: \"))\n",
    "i = 1\n",
    "while i<=num:\n",
    "    print(i)\n",
    "    i= i+1"
   ]
  },
  {
   "cell_type": "code",
   "execution_count": 4,
   "id": "c7a74dd9-f835-482a-9818-bca3affa1089",
   "metadata": {},
   "outputs": [
    {
     "name": "stdin",
     "output_type": "stream",
     "text": [
      "Enter First 10 Naturals Number :  9\n"
     ]
    },
    {
     "name": "stdout",
     "output_type": "stream",
     "text": [
      "Sum of First 10 naturals number is :  45\n",
      "product of First 10 naturals number is :  362880\n"
     ]
    }
   ],
   "source": [
    "# Q2.\n",
    "\n",
    "# Ans:- PROGRAM TO PRINT THE SUM AND PRODUCT OF THE FIRST 10 NATURALS NUMBER.\n",
    "\n",
    "\n",
    "num = int(input(\"Enter First 10 Naturals Number : \"))\n",
    "      \n",
    "sum = 0\n",
    "multiply = 1\n",
    "      \n",
    "for i in range(1,num+1):\n",
    "    sum = sum + i\n",
    "    multiply = multiply * i\n",
    "          \n",
    "print(\"Sum of First 10 naturals number is : \", sum) \n",
    "print(\"product of First 10 naturals number is : \", multiply) \n",
    "      \n"
   ]
  },
  {
   "cell_type": "code",
   "execution_count": 5,
   "id": "0c183a25-0cf3-4d02-afa0-33f5ffbe3b72",
   "metadata": {},
   "outputs": [
    {
     "name": "stdin",
     "output_type": "stream",
     "text": [
      "Enter your monthly spend units :  310\n"
     ]
    },
    {
     "name": "stdout",
     "output_type": "stream",
     "text": [
      "2250.0\n"
     ]
    }
   ],
   "source": [
    "# Q3.\n",
    "\n",
    "# Ans:- PROGRAM TO COMPUTE THE ELECTRICITY BILL FOR A HOUSEHOLD.\n",
    "\n",
    "units = int(input(\"Enter your monthly spend units : \"))\n",
    "        \n",
    "        # for the first 100 units, charge = rs 4.5 per unit.\n",
    "if units <= 100:\n",
    "    amount = (units * 4.5)\n",
    "            \n",
    "        # for the next 100 units , charge = rs 6 per unit.\n",
    "if units > 100:\n",
    "    amount = (100 * 4.5) + (units- 100)*6\n",
    "            \n",
    "        # for the next hundred units , charge = rs 10 per unit.\n",
    "if units > 200:\n",
    "    amount = (100*4.5)+(100*6)+(units-200)*10\n",
    "            \n",
    "        # after 300 units, charge will be fixed = rs 20 per unit.\n",
    "if units > 300:\n",
    "    amount = (100*4.5)+(100*6)+(100*10)+(units-300)*20\n",
    "            \n",
    "print(amount)    \n",
    "\n",
    "                "
   ]
  },
  {
   "cell_type": "code",
   "execution_count": 2,
   "id": "20355df8-5d5e-44c2-8bca-2f3048a09dc7",
   "metadata": {},
   "outputs": [
    {
     "name": "stdout",
     "output_type": "stream",
     "text": [
      "[1, 2, 3, 4, 5, 6, 7, 8, 9, 10, 11, 12, 13, 14, 15, 16, 17, 18, 19, 20, 21, 22, 23, 24, 25, 26, 27, 28, 29, 30, 31, 32, 33, 34, 35, 36, 37, 38, 39, 40, 41, 42, 43, 44, 45, 46, 47, 48, 49, 50, 51, 52, 53, 54, 55, 56, 57, 58, 59, 60, 61, 62, 63, 64, 65, 66, 67, 68, 69, 70, 71, 72, 73, 74, 75, 76, 77, 78, 79, 80, 81, 82, 83, 84, 85, 86, 87, 88, 89, 90, 91, 92, 93, 94, 95, 96, 97, 98, 99, 100]\n",
      "[8, 64, 125, 216, 512, 1000, 1728, 2744, 3375, 4096, 5832, 8000, 10648, 13824, 15625, 17576, 21952, 27000, 32768, 39304, 42875, 46656, 54872, 64000, 74088, 85184, 91125, 97336, 110592, 125000, 140608, 157464, 166375, 175616, 195112, 216000, 238328, 262144, 274625, 287496, 314432, 343000, 373248, 405224, 421875, 438976, 474552, 512000, 551368, 592704, 614125, 636056, 681472, 729000, 778688, 830584, 857375, 884736, 941192, 1000000]\n"
     ]
    }
   ],
   "source": [
    " # Q4.\n",
    " \n",
    "# Ans:-   \n",
    "\n",
    "lst = list(range(1,101))\n",
    "\n",
    "print(lst)\n",
    "        \n",
    "cubes = []\n",
    "for i in lst:\n",
    "    if i**3%4 == 0 or i**3%5==0:\n",
    "        cubes.append(i**3)\n",
    "print(cubes)\n",
    "        \n",
    " "
   ]
  },
  {
   "cell_type": "code",
   "execution_count": 8,
   "id": "0b335934-0b42-4bae-a0b7-826e6b149448",
   "metadata": {},
   "outputs": [
    {
     "name": "stdout",
     "output_type": "stream",
     "text": [
      "[1, 2, 3, 4, 5, 6, 7, 8, 9, 10, 11, 12, 13, 14, 15, 16, 17, 18, 19, 20, 21, 22, 23, 24, 25, 26, 27, 28, 29, 30, 31, 32, 33, 34, 35, 36, 37, 38, 39, 40, 41, 42, 43, 44, 45, 46, 47, 48, 49, 50, 51, 52, 53, 54, 55, 56, 57, 58, 59, 60, 61, 62, 63, 64, 65, 66, 67, 68, 69, 70, 71, 72, 73, 74, 75, 76, 77, 78, 79, 80, 81, 82, 83, 84, 85, 86, 87, 88, 89, 90, 91, 92, 93, 94, 95, 96, 97, 98, 99, 100]\n",
      "[8, 64, 125, 216, 512, 1000, 1728, 2744, 3375, 4096, 5832, 8000, 10648, 13824, 15625, 17576, 21952, 27000, 32768, 39304, 42875, 46656, 54872, 64000, 74088, 85184, 91125, 97336, 110592, 125000, 140608, 157464, 166375, 175616, 195112, 216000, 238328, 262144, 274625, 287496, 314432, 343000, 373248, 405224, 421875, 438976, 474552, 512000, 551368, 592704, 614125, 636056, 681472, 729000, 778688, 830584, 857375, 884736, 941192, 1000000]\n"
     ]
    }
   ],
   "source": [
    "# Q4. WITH WHILE LOOP \n",
    "\n",
    "lst = list(range(1,101))\n",
    "\n",
    "print(lst)\n",
    "i = 1\n",
    "cubes = []\n",
    "while i <= 100:\n",
    "    if i**3%4 == 0 or i**3%5==0:\n",
    "        cubes.append(i**3)\n",
    "    i = i+1\n",
    "print(cubes)\n",
    "        "
   ]
  },
  {
   "cell_type": "code",
   "execution_count": 9,
   "id": "6c682c98-f56a-48d6-825b-7858ea2840f1",
   "metadata": {},
   "outputs": [
    {
     "name": "stdout",
     "output_type": "stream",
     "text": [
      "Total vowels in this string are : 12\n"
     ]
    }
   ],
   "source": [
    "# Q5.  \n",
    "\n",
    "# Ans:- \n",
    "string = \"I want to become a data scientist\"\n",
    "vowels = 0\n",
    "for i in string:\n",
    "    if (i == \"a\" or i==\"e\" or i==\"i\" or i==\"o\"or i==\"u\" or i==\"A\" or i==\"E\" or i==\"I\" or i==\"O\" or i==\"U\"):\n",
    "        vowels = vowels + 1\n",
    "\n",
    "print(\"Total vowels in this string are :\",vowels)"
   ]
  },
  {
   "cell_type": "code",
   "execution_count": null,
   "id": "cfd20fde-43ef-45da-b851-a7a1efcb28f0",
   "metadata": {},
   "outputs": [],
   "source": []
  }
 ],
 "metadata": {
  "kernelspec": {
   "display_name": "Python 3 (ipykernel)",
   "language": "python",
   "name": "python3"
  },
  "language_info": {
   "codemirror_mode": {
    "name": "ipython",
    "version": 3
   },
   "file_extension": ".py",
   "mimetype": "text/x-python",
   "name": "python",
   "nbconvert_exporter": "python",
   "pygments_lexer": "ipython3",
   "version": "3.10.8"
  }
 },
 "nbformat": 4,
 "nbformat_minor": 5
}
